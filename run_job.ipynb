{
  "cells": [
    {
      "cell_type": "code",
      "execution_count": 2,
      "id": "4a693f91",
      "metadata": {},
      "outputs": [
        {
          "name": "stdout",
          "output_type": "stream",
          "text": [
            "\n",
            "\u001b[1m[\u001b[0m\u001b[34;49mnotice\u001b[0m\u001b[1;39;49m]\u001b[0m\u001b[39;49m A new release of pip is available: \u001b[0m\u001b[31;49m25.1.1\u001b[0m\u001b[39;49m -> \u001b[0m\u001b[32;49m25.3\u001b[0m\n",
            "\u001b[1m[\u001b[0m\u001b[34;49mnotice\u001b[0m\u001b[1;39;49m]\u001b[0m\u001b[39;49m To update, run: \u001b[0m\u001b[32;49m/anaconda/envs/azureml_py310_sdkv2/bin/python -m pip install --upgrade pip\u001b[0m\n",
            "Note: you may need to restart the kernel to use updated packages.\n",
            "/mnt/batch/tasks/shared/LS_root/mounts/clusters/movielens-compute/code/Users/djenk.ivanov\n"
          ]
        }
      ],
      "source": [
        "%pip install --quiet -U dotenv\n",
        "%cd Users/djenk.ivanov/"
      ]
    },
    {
      "cell_type": "code",
      "execution_count": 3,
      "id": "55b62f72",
      "metadata": {},
      "outputs": [],
      "source": [
        "from azure.ai.ml.entities import ManagedOnlineEndpoint, ManagedOnlineDeployment, Model\n",
        "from azure.identity import DefaultAzureCredential\n",
        "import uuid\n",
        "from azure.ai.ml.entities import Environment\n",
        "from azure.ai.ml import MLClient\n",
        "from dotenv import load_dotenv\n",
        "import os\n",
        "\n",
        "\n",
        "dependencies_dir = \"./dependencies\"\n",
        "os.makedirs(dependencies_dir, exist_ok=True)"
      ]
    },
    {
      "cell_type": "code",
      "execution_count": 33,
      "id": "b57faff6",
      "metadata": {},
      "outputs": [
        {
          "name": "stdout",
          "output_type": "stream",
          "text": [
            "Environment with name movielens-recsys-env is registered to workspace, the environment version is 11\n"
          ]
        }
      ],
      "source": [
        "\n",
        "\n",
        "custom_env_name = \"movielens-recsys-env\"\n",
        "\n",
        "load_dotenv()\n",
        "\n",
        "credential = DefaultAzureCredential()\n",
        "\n",
        "custom_job_env = Environment(\n",
        "    name=custom_env_name,\n",
        "    description=\"Environment for MovieLens recommendation system\",\n",
        "    conda_file=os.path.join(dependencies_dir, \"conda.yaml\"),\n",
        "    image=\"mcr.microsoft.com/azureml/openmpi4.1.0-ubuntu20.04:latest\",\n",
        ")\n",
        "\n",
        "ml_client = MLClient(\n",
        "    credential=credential,\n",
        "    subscription_id=os.getenv(\"AZURE_SUBSCRIPTION_ID\"),\n",
        "    resource_group_name=os.getenv(\"AZURE_RESOURCE_GROUP\"),\n",
        "    workspace_name=os.getenv(\"AZURE_ML_WORKSPACE\"),\n",
        ")\n",
        "\n",
        "custom_job_env = ml_client.environments.create_or_update(custom_job_env)\n",
        "\n",
        "print(\n",
        "    f\"Environment with name {custom_job_env.name} is registered to workspace, the environment version is {custom_job_env.version}\"\n",
        ")"
      ]
    },
    {
      "cell_type": "markdown",
      "id": "4c961f85",
      "metadata": {},
      "source": [
        "# Run job"
      ]
    },
    {
      "cell_type": "code",
      "execution_count": 31,
      "id": "4b650424",
      "metadata": {
        "gather": {
          "logged": 1761778756658
        }
      },
      "outputs": [
        {
          "data": {
            "text/html": [
              "<table style=\"width:100%\"><tr><th>Experiment</th><th>Name</th><th>Type</th><th>Status</th><th>Details Page</th></tr><tr><td>djenk</td><td>magenta_stick_bgcmsm25h9</td><td>command</td><td>Starting</td><td><a href=\"https://ml.azure.com/runs/magenta_stick_bgcmsm25h9?wsid=/subscriptions/ba117730-305b-41b8-8447-bf6834f0a56f/resourcegroups/djenk-rg1/workspaces/djenk-ml&amp;tid=26ee93c3-64d1-49a6-b531-5d4e56d6a832\" target=\"_blank\" rel=\"noopener\">Link to Azure Machine Learning studio</a></td></tr></table>"
            ],
            "text/plain": [
              "Command({'parameters': {}, 'init': False, 'name': 'magenta_stick_bgcmsm25h9', 'type': 'command', 'status': 'Starting', 'log_files': None, 'description': None, 'tags': {}, 'properties': {'_azureml.ComputeTargetType': 'amlctrain', '_azureml.ClusterName': None, 'ContentSnapshotId': '56cb1c28-eafe-4749-9eb1-5c1bb2ed4a3b'}, 'print_as_yaml': False, 'id': '/subscriptions/ba117730-305b-41b8-8447-bf6834f0a56f/resourceGroups/djenk-rg1/providers/Microsoft.MachineLearningServices/workspaces/djenk-ml/jobs/magenta_stick_bgcmsm25h9', 'Resource__source_path': '', 'base_path': '/mnt/batch/tasks/shared/LS_root/mounts/clusters/movielens-compute/code/Users/djenk.ivanov', 'creation_context': <azure.ai.ml.entities._system_data.SystemData object at 0x7fa4ef050c10>, 'serialize': <msrest.serialization.Serializer object at 0x7fa4eeeb3310>, 'allowed_keys': {}, 'key_restriction': False, 'logger': <Logger attr_dict (WARNING)>, 'display_name': 'movielens_recommender_training_job', 'experiment_name': 'djenk', 'compute': None, 'services': {'Tracking': {'endpoint': 'azureml://eastus.api.azureml.ms/mlflow/v1.0/subscriptions/ba117730-305b-41b8-8447-bf6834f0a56f/resourceGroups/djenk-rg1/providers/Microsoft.MachineLearningServices/workspaces/djenk-ml?', 'type': 'Tracking'}, 'Studio': {'endpoint': 'https://ml.azure.com/runs/magenta_stick_bgcmsm25h9?wsid=/subscriptions/ba117730-305b-41b8-8447-bf6834f0a56f/resourcegroups/djenk-rg1/workspaces/djenk-ml&tid=26ee93c3-64d1-49a6-b531-5d4e56d6a832', 'type': 'Studio'}}, 'comment': None, 'job_inputs': {'data': {'type': 'uri_folder', 'path': 'movielens32m:1', 'mode': 'ro_mount'}, 'model_name': 'movielens_recommender'}, 'job_outputs': {'default': {'type': 'uri_folder', 'path': 'azureml://datastores/workspaceartifactstore/ExperimentRun/dcid.magenta_stick_bgcmsm25h9', 'mode': 'rw_mount'}}, 'inputs': {'data': <azure.ai.ml.entities._job.pipeline._io.base.NodeInput object at 0x7fa4eeeb1270>, 'model_name': <azure.ai.ml.entities._job.pipeline._io.base.NodeInput object at 0x7fa4eeeb2bf0>}, 'outputs': {'default': <azure.ai.ml.entities._job.pipeline._io.base.NodeOutput object at 0x7fa4eeeb2230>}, 'component': CommandComponent({'latest_version': None, 'intellectual_property': None, 'auto_increment_version': True, 'source': 'REMOTE.WORKSPACE.JOB', 'is_anonymous': False, 'auto_delete_setting': None, 'name': 'magenta_stick_bgcmsm25h9', 'description': None, 'tags': {}, 'properties': {}, 'print_as_yaml': False, 'id': None, 'Resource__source_path': None, 'base_path': '/mnt/batch/tasks/shared/LS_root/mounts/clusters/movielens-compute/code/Users/djenk.ivanov', 'creation_context': <azure.ai.ml.entities._system_data.SystemData object at 0x7fa4ef050c10>, 'serialize': <msrest.serialization.Serializer object at 0x7fa4ef050790>, 'command': 'python main.py --data ${{inputs.data}} --model_name ${{inputs.model_name}}', 'code': '/subscriptions/ba117730-305b-41b8-8447-bf6834f0a56f/resourceGroups/djenk-rg1/providers/Microsoft.MachineLearningServices/workspaces/djenk-ml/codes/fb9b74c5-12a2-47eb-8622-c3f4a6703aca/versions/1', 'environment_variables': {}, 'environment': '/subscriptions/ba117730-305b-41b8-8447-bf6834f0a56f/resourceGroups/djenk-rg1/providers/Microsoft.MachineLearningServices/workspaces/djenk-ml/environments/movielens-recsys-env/versions/11', 'distribution': None, 'resources': None, 'queue_settings': None, 'version': None, 'schema': None, 'type': 'command', 'display_name': 'movielens_recommender_training_job', 'is_deterministic': True, 'inputs': {'data': {'type': 'uri_folder', 'path': '/subscriptions/ba117730-305b-41b8-8447-bf6834f0a56f/resourceGroups/djenk-rg1/providers/Microsoft.MachineLearningServices/workspaces/djenk-ml/data/movielens32m/versions/1', 'mode': 'ro_mount'}, 'model_name': {'type': 'string', 'default': 'movielens_recommender'}}, 'outputs': {'default': {'type': 'uri_folder', 'path': 'azureml://datastores/workspaceartifactstore/ExperimentRun/dcid.magenta_stick_bgcmsm25h9', 'mode': 'rw_mount'}}, 'yaml_str': None, 'other_parameter': {'status': 'Starting', 'parameters': {}}, 'additional_includes': []}), 'referenced_control_flow_node_instance_id': None, 'kwargs': {'services': {'Tracking': {'endpoint': 'azureml://eastus.api.azureml.ms/mlflow/v1.0/subscriptions/ba117730-305b-41b8-8447-bf6834f0a56f/resourceGroups/djenk-rg1/providers/Microsoft.MachineLearningServices/workspaces/djenk-ml?', 'type': 'Tracking'}, 'Studio': {'endpoint': 'https://ml.azure.com/runs/magenta_stick_bgcmsm25h9?wsid=/subscriptions/ba117730-305b-41b8-8447-bf6834f0a56f/resourcegroups/djenk-rg1/workspaces/djenk-ml&tid=26ee93c3-64d1-49a6-b531-5d4e56d6a832', 'type': 'Studio'}}, 'status': 'Starting', 'creation_context': <azure.ai.ml.entities._system_data.SystemData object at 0x7fa4ef050c10>}, 'instance_id': '6f6ed7e9-9dbb-4caa-94cb-8ee25781466c', 'source': 'BUILDER', 'validate_required_input_not_provided': True, 'limits': None, 'identity': None, 'distribution': None, 'environment_variables': {}, 'environment': 'movielens-recsys-env:11', 'resources': {'instance_count': 1, 'shm_size': '2g'}, 'queue_settings': {'job_tier': 'null'}, 'parent_job_name': None, 'swept': False})"
            ]
          },
          "execution_count": 31,
          "metadata": {},
          "output_type": "execute_result"
        }
      ],
      "source": [
        "from azure.ai.ml import command, Input\n",
        "\n",
        "model_name = \"movielens_recommender\"\n",
        "data = Input(type=\"uri_folder\", path=\"azureml:movielens32m:1\")\n",
        "\n",
        "job = command(\n",
        "    inputs=dict(\n",
        "        data=data,\n",
        "        model_name=model_name,\n",
        "    ),\n",
        "    code=\"./src/\",\n",
        "    command=\"python main.py --data ${{inputs.data}} --model_name ${{inputs.model_name}}\",\n",
        "    environment=\"movielens-recsys-env@latest\",\n",
        "    display_name=\"movielens_recommender_training_job\",\n",
        ")\n",
        "ml_client.jobs.create_or_update(job)"
      ]
    },
    {
      "cell_type": "markdown",
      "id": "31397469",
      "metadata": {},
      "source": [
        "# Create endpoint/deploy"
      ]
    },
    {
      "cell_type": "code",
      "execution_count": 34,
      "id": "a5b6d446",
      "metadata": {},
      "outputs": [
        {
          "name": "stderr",
          "output_type": "stream",
          "text": [
            "Check: endpoint movielens-endpoint-da469f0c exists\n"
          ]
        },
        {
          "name": "stdout",
          "output_type": "stream",
          "text": [
            "....................................................................................................."
          ]
        },
        {
          "data": {
            "text/plain": [
              "ManagedOnlineEndpoint({'public_network_access': 'Enabled', 'provisioning_state': 'Succeeded', 'scoring_uri': 'https://movielens-endpoint-da469f0c.eastus.inference.ml.azure.com/score', 'openapi_uri': 'https://movielens-endpoint-da469f0c.eastus.inference.ml.azure.com/swagger.json', 'name': 'movielens-endpoint-da469f0c', 'description': None, 'tags': {}, 'properties': {'createdBy': 'Djenk Ivanov', 'createdAt': '2025-10-31T19:31:36.669132+0000', 'lastModifiedAt': '2025-10-31T19:41:41.539864+0000', 'azureml.onlineendpointid': '/subscriptions/ba117730-305b-41b8-8447-bf6834f0a56f/resourcegroups/djenk-rg1/providers/microsoft.machinelearningservices/workspaces/djenk-ml/onlineendpoints/movielens-endpoint-da469f0c', 'AzureAsyncOperationUri': 'https://management.azure.com/subscriptions/ba117730-305b-41b8-8447-bf6834f0a56f/providers/Microsoft.MachineLearningServices/locations/eastus/mfeOperationsStatus/oeidp:c22f1a9c-ea50-4bf9-b5de-6e7dc424a18d:961f9902-adac-4d91-b699-df54d63afe9c?api-version=2022-02-01-preview'}, 'print_as_yaml': False, 'id': '/subscriptions/ba117730-305b-41b8-8447-bf6834f0a56f/resourceGroups/djenk-rg1/providers/Microsoft.MachineLearningServices/workspaces/djenk-ml/onlineEndpoints/movielens-endpoint-da469f0c', 'Resource__source_path': '', 'base_path': '/mnt/batch/tasks/shared/LS_root/mounts/clusters/movielens-compute/code/Users/djenk.ivanov', 'creation_context': None, 'serialize': <msrest.serialization.Serializer object at 0x7fa943ff1f90>, 'auth_mode': 'key', 'location': 'eastus', 'identity': <azure.ai.ml.entities._credentials.IdentityConfiguration object at 0x7fa943ff1b10>, 'traffic': {'blue': 100}, 'mirror_traffic': {}, 'kind': 'Managed'})"
            ]
          },
          "execution_count": 34,
          "metadata": {},
          "output_type": "execute_result"
        }
      ],
      "source": [
        "endpoint_name = f'movielens-endpoint-{str(uuid.uuid4())[:8]}'\n",
        "\n",
        "endpoint = ManagedOnlineEndpoint(\n",
        "    name=endpoint_name,\n",
        "    auth_mode=\"key\",\n",
        ")\n",
        "\n",
        "model_name = \"movielens_recommender\"\n",
        "\n",
        "latest_model_version = max(\n",
        "    [int(m.version) for m in ml_client.models.list(name=model_name)]\n",
        ")\n",
        "\n",
        "ml_client.online_endpoints.begin_create_or_update(endpoint).result()\n",
        "model = ml_client.models.get(name=model_name, version=latest_model_version)\n",
        "deployment = ManagedOnlineDeployment(\n",
        "    name=\"blue\",\n",
        "    endpoint_name=endpoint_name,\n",
        "    model=model,\n",
        "    code_path=\"./src\",\n",
        "    environment=\"movielens-recsys-env@latest\",\n",
        "    scoring_script=\"score.py\",\n",
        "    instance_type=\"Standard_E2s_v3\",\n",
        "    instance_count=1,\n",
        ")\n",
        "\n",
        "ml_client.online_deployments.begin_create_or_update(deployment).result()\n",
        "\n",
        "endpoint.traffic = {\"blue\": 100}\n",
        "ml_client.online_endpoints.begin_create_or_update(endpoint).result()"
      ]
    },
    {
      "cell_type": "code",
      "execution_count": 36,
      "id": "2091e6fd",
      "metadata": {},
      "outputs": [
        {
          "name": "stdout",
          "output_type": "stream",
          "text": [
            "\"{\\\"recommendations\\\": [{\\\"movieId\\\": 50, \\\"title\\\": \\\"Usual Suspects, The (1995)\\\", \\\"genres\\\": \\\"Crime|Mystery|Thriller\\\"}, {\\\"movieId\\\": 260, \\\"title\\\": \\\"Star Wars: Episode IV - A New Hope (1977)\\\", \\\"genres\\\": \\\"Action|Adventure|Sci-Fi\\\"}, {\\\"movieId\\\": 296, \\\"title\\\": \\\"Pulp Fiction (1994)\\\", \\\"genres\\\": \\\"Comedy|Crime|Drama|Thriller\\\"}, {\\\"movieId\\\": 356, \\\"title\\\": \\\"Forrest Gump (1994)\\\", \\\"genres\\\": \\\"Comedy|Drama|Romance|War\\\"}, {\\\"movieId\\\": 608, \\\"title\\\": \\\"Fargo (1996)\\\", \\\"genres\\\": \\\"Comedy|Crime|Drama|Thriller\\\"}, {\\\"movieId\\\": 1036, \\\"title\\\": \\\"Die Hard (1988)\\\", \\\"genres\\\": \\\"Action|Crime|Thriller\\\"}, {\\\"movieId\\\": 1240, \\\"title\\\": \\\"Terminator, The (1984)\\\", \\\"genres\\\": \\\"Action|Sci-Fi|Thriller\\\"}, {\\\"movieId\\\": 1265, \\\"title\\\": \\\"Groundhog Day (1993)\\\", \\\"genres\\\": \\\"Comedy|Fantasy|Romance\\\"}, {\\\"movieId\\\": 1270, \\\"title\\\": \\\"Back to the Future (1985)\\\", \\\"genres\\\": \\\"Adventure|Comedy|Sci-Fi\\\"}, {\\\"movieId\\\": 2762, \\\"title\\\": \\\"Sixth Sense, The (1999)\\\", \\\"genres\\\": \\\"Drama|Horror|Mystery\\\"}]}\"\n"
          ]
        }
      ],
      "source": [
        "latest_endpoint_name = \"movielens-endpoint-da469f0c\"\n",
        "\n",
        "response = ml_client.online_endpoints.invoke(\n",
        "    endpoint_name=latest_endpoint_name,\n",
        "    deployment_name=\"blue\",\n",
        "    request_file=\"./payload.json\"\n",
        ")\n",
        "\n",
        "print(response)"
      ]
    }
  ],
  "metadata": {
    "kernel_info": {
      "name": "python310-sdkv2"
    },
    "kernelspec": {
      "display_name": "Python 3.10 - SDK v2",
      "language": "python",
      "name": "python310-sdkv2"
    },
    "language_info": {
      "codemirror_mode": {
        "name": "ipython",
        "version": 3
      },
      "file_extension": ".py",
      "mimetype": "text/x-python",
      "name": "python",
      "nbconvert_exporter": "python",
      "pygments_lexer": "ipython3",
      "version": "3.10.18"
    },
    "microsoft": {
      "ms_spell_check": {
        "ms_spell_check_language": "en"
      }
    },
    "nteract": {
      "version": "nteract-front-end@1.0.0"
    }
  },
  "nbformat": 4,
  "nbformat_minor": 5
}
