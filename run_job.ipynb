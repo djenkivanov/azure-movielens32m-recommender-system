{
  "cells": [
    {
      "cell_type": "code",
      "source": [
        "%pip install --quiet -U dotenv\n",
        "%cd Users/djenk.ivanov/"
      ],
      "outputs": [
        {
          "output_type": "stream",
          "name": "stdout",
          "text": "\n\u001b[1m[\u001b[0m\u001b[34;49mnotice\u001b[0m\u001b[1;39;49m]\u001b[0m\u001b[39;49m A new release of pip is available: \u001b[0m\u001b[31;49m25.1.1\u001b[0m\u001b[39;49m -> \u001b[0m\u001b[32;49m25.3\u001b[0m\n\u001b[1m[\u001b[0m\u001b[34;49mnotice\u001b[0m\u001b[1;39;49m]\u001b[0m\u001b[39;49m To update, run: \u001b[0m\u001b[32;49m/anaconda/envs/azureml_py310_sdkv2/bin/python -m pip install --upgrade pip\u001b[0m\nNote: you may need to restart the kernel to use updated packages.\n[Errno 2] No such file or directory: 'Users/djenk.ivanov/'\n/mnt/batch/tasks/shared/LS_root/mounts/clusters/movielens-highram/code/Users/djenk.ivanov\n"
        }
      ],
      "execution_count": 2,
      "metadata": {},
      "id": "4a693f91"
    },
    {
      "cell_type": "code",
      "source": [
        "import os\n",
        "\n",
        "dependencies_dir = \"./dependencies\"\n",
        "os.makedirs(dependencies_dir, exist_ok=True)"
      ],
      "outputs": [],
      "execution_count": 4,
      "metadata": {},
      "id": "55b62f72"
    },
    {
      "cell_type": "code",
      "source": [
        "from azure.ai.ml.entities import Environment\n",
        "from azure.ai.ml import MLClient\n",
        "from azure.identity import DefaultAzureCredential\n",
        "from dotenv import load_dotenv\n",
        "import os\n",
        "\n",
        "custom_env_name = \"movielens-recsys-env\"\n",
        "\n",
        "load_dotenv()\n",
        "\n",
        "credential = DefaultAzureCredential()\n",
        "\n",
        "custom_job_env = Environment(\n",
        "    name=custom_env_name,\n",
        "    description=\"Environment for MovieLens recommendation system\",\n",
        "    conda_file=os.path.join(dependencies_dir, \"conda.yaml\"),\n",
        "    image=\"mcr.microsoft.com/azureml/openmpi4.1.0-ubuntu20.04:latest\",\n",
        ")\n",
        "\n",
        "ml_client = MLClient(\n",
        "    credential=credential,\n",
        "    subscription_id=os.getenv(\"AZURE_SUBSCRIPTION_ID\"),\n",
        "    resource_group_name=os.getenv(\"AZURE_RESOURCE_GROUP\"),\n",
        "    workspace_name=os.getenv(\"AZURE_ML_WORKSPACE\"),\n",
        ")\n",
        "\n",
        "custom_job_env = ml_client.environments.create_or_update(custom_job_env)\n",
        "\n",
        "print(\n",
        "    f\"Environment with name {custom_job_env.name} is registered to workspace, the environment version is {custom_job_env.version}\"\n",
        ")"
      ],
      "outputs": [
        {
          "output_type": "stream",
          "name": "stdout",
          "text": "Environment with name movielens-recsys-env is registered to workspace, the environment version is 4\n"
        }
      ],
      "execution_count": 5,
      "metadata": {},
      "id": "b57faff6"
    },
    {
      "cell_type": "code",
      "source": [
        "from azure.ai.ml import command, Input\n",
        "\n",
        "model_name = \"movielens_recommender\"\n",
        "data = Input(type=\"uri_folder\", path=\"azureml:movielens32m:1\")\n",
        "\n",
        "job = command(\n",
        "    inputs=dict(\n",
        "        data=data,\n",
        "        model_name=model_name,\n",
        "    ),\n",
        "    code=\"./src/\",\n",
        "    command=\"python main.py --data ${{inputs.data}} --model_name ${{inputs.model_name}}\",\n",
        "    environment=\"movielens-recsys-env@latest\",\n",
        "    display_name=\"movielens_recommender_training_job\",\n",
        ")\n",
        "ml_client.jobs.create_or_update(job)"
      ],
      "outputs": [
        {
          "output_type": "execute_result",
          "execution_count": 7,
          "data": {
            "text/plain": "Command({'parameters': {}, 'init': False, 'name': 'brave_street_dh75f3020t', 'type': 'command', 'status': 'Starting', 'log_files': None, 'description': None, 'tags': {}, 'properties': {'_azureml.ComputeTargetType': 'amlctrain', '_azureml.ClusterName': None, 'ContentSnapshotId': '41a9bb64-6b8c-4521-b537-eb23eee3fa33'}, 'print_as_yaml': False, 'id': '/subscriptions/ba117730-305b-41b8-8447-bf6834f0a56f/resourceGroups/djenk-rg1/providers/Microsoft.MachineLearningServices/workspaces/djenk-ml/jobs/brave_street_dh75f3020t', 'Resource__source_path': '', 'base_path': '/mnt/batch/tasks/shared/LS_root/mounts/clusters/movielens-highram/code/Users/djenk.ivanov', 'creation_context': <azure.ai.ml.entities._system_data.SystemData object at 0x73b53b903430>, 'serialize': <msrest.serialization.Serializer object at 0x73b53b903f40>, 'allowed_keys': {}, 'key_restriction': False, 'logger': <Logger attr_dict (WARNING)>, 'display_name': 'movielens_recommender_training_job', 'experiment_name': 'djenk', 'compute': None, 'services': {'Tracking': {'endpoint': 'azureml://eastus.api.azureml.ms/mlflow/v1.0/subscriptions/ba117730-305b-41b8-8447-bf6834f0a56f/resourceGroups/djenk-rg1/providers/Microsoft.MachineLearningServices/workspaces/djenk-ml?', 'type': 'Tracking'}, 'Studio': {'endpoint': 'https://ml.azure.com/runs/brave_street_dh75f3020t?wsid=/subscriptions/ba117730-305b-41b8-8447-bf6834f0a56f/resourcegroups/djenk-rg1/workspaces/djenk-ml&tid=26ee93c3-64d1-49a6-b531-5d4e56d6a832', 'type': 'Studio'}}, 'comment': None, 'job_inputs': {'data': {'type': 'uri_folder', 'path': 'movielens32m:1', 'mode': 'ro_mount'}, 'model_name': 'movielens_recommender'}, 'job_outputs': {'default': {'type': 'uri_folder', 'path': 'azureml://datastores/workspaceartifactstore/ExperimentRun/dcid.brave_street_dh75f3020t', 'mode': 'rw_mount'}}, 'inputs': {'data': <azure.ai.ml.entities._job.pipeline._io.base.NodeInput object at 0x73b53b9022f0>, 'model_name': <azure.ai.ml.entities._job.pipeline._io.base.NodeInput object at 0x73b53b903cd0>}, 'outputs': {'default': <azure.ai.ml.entities._job.pipeline._io.base.NodeOutput object at 0x73b53b903b50>}, 'component': CommandComponent({'latest_version': None, 'intellectual_property': None, 'auto_increment_version': True, 'source': 'REMOTE.WORKSPACE.JOB', 'is_anonymous': False, 'auto_delete_setting': None, 'name': 'brave_street_dh75f3020t', 'description': None, 'tags': {}, 'properties': {}, 'print_as_yaml': False, 'id': None, 'Resource__source_path': None, 'base_path': '/mnt/batch/tasks/shared/LS_root/mounts/clusters/movielens-highram/code/Users/djenk.ivanov', 'creation_context': <azure.ai.ml.entities._system_data.SystemData object at 0x73b53b903430>, 'serialize': <msrest.serialization.Serializer object at 0x73b53b902200>, 'command': 'python main.py --data ${{inputs.data}} --model_name ${{inputs.model_name}}', 'code': '/subscriptions/ba117730-305b-41b8-8447-bf6834f0a56f/resourceGroups/djenk-rg1/providers/Microsoft.MachineLearningServices/workspaces/djenk-ml/codes/65ffbfc3-52df-4505-930f-a75b2c3c796f/versions/1', 'environment_variables': {}, 'environment': '/subscriptions/ba117730-305b-41b8-8447-bf6834f0a56f/resourceGroups/djenk-rg1/providers/Microsoft.MachineLearningServices/workspaces/djenk-ml/environments/movielens-recsys-env/versions/4', 'distribution': None, 'resources': None, 'queue_settings': None, 'version': None, 'schema': None, 'type': 'command', 'display_name': 'movielens_recommender_training_job', 'is_deterministic': True, 'inputs': {'data': {'type': 'uri_folder', 'path': '/subscriptions/ba117730-305b-41b8-8447-bf6834f0a56f/resourceGroups/djenk-rg1/providers/Microsoft.MachineLearningServices/workspaces/djenk-ml/data/movielens32m/versions/1', 'mode': 'ro_mount'}, 'model_name': {'type': 'string', 'default': 'movielens_recommender'}}, 'outputs': {'default': {'type': 'uri_folder', 'path': 'azureml://datastores/workspaceartifactstore/ExperimentRun/dcid.brave_street_dh75f3020t', 'mode': 'rw_mount'}}, 'yaml_str': None, 'other_parameter': {'status': 'Starting', 'parameters': {}}, 'additional_includes': []}), 'referenced_control_flow_node_instance_id': None, 'kwargs': {'services': {'Tracking': {'endpoint': 'azureml://eastus.api.azureml.ms/mlflow/v1.0/subscriptions/ba117730-305b-41b8-8447-bf6834f0a56f/resourceGroups/djenk-rg1/providers/Microsoft.MachineLearningServices/workspaces/djenk-ml?', 'type': 'Tracking'}, 'Studio': {'endpoint': 'https://ml.azure.com/runs/brave_street_dh75f3020t?wsid=/subscriptions/ba117730-305b-41b8-8447-bf6834f0a56f/resourcegroups/djenk-rg1/workspaces/djenk-ml&tid=26ee93c3-64d1-49a6-b531-5d4e56d6a832', 'type': 'Studio'}}, 'status': 'Starting', 'creation_context': <azure.ai.ml.entities._system_data.SystemData object at 0x73b53b903430>}, 'instance_id': '3eb5e656-82db-48d6-abbc-ae893f699804', 'source': 'BUILDER', 'validate_required_input_not_provided': True, 'limits': None, 'identity': None, 'distribution': None, 'environment_variables': {}, 'environment': 'movielens-recsys-env:4', 'resources': {'instance_count': 1, 'shm_size': '2g'}, 'queue_settings': {'job_tier': 'null'}, 'parent_job_name': None, 'swept': False})",
            "text/html": "<table style=\"width:100%\"><tr><th>Experiment</th><th>Name</th><th>Type</th><th>Status</th><th>Details Page</th></tr><tr><td>djenk</td><td>brave_street_dh75f3020t</td><td>command</td><td>Starting</td><td><a href=\"https://ml.azure.com/runs/brave_street_dh75f3020t?wsid=/subscriptions/ba117730-305b-41b8-8447-bf6834f0a56f/resourcegroups/djenk-rg1/workspaces/djenk-ml&amp;tid=26ee93c3-64d1-49a6-b531-5d4e56d6a832\" target=\"_blank\" rel=\"noopener\">Link to Azure Machine Learning studio</a></td></tr></table>"
          },
          "metadata": {}
        }
      ],
      "execution_count": 7,
      "metadata": {
        "gather": {
          "logged": 1761778756658
        }
      },
      "id": "4b650424"
    }
  ],
  "metadata": {
    "kernelspec": {
      "name": "python310-sdkv2",
      "language": "python",
      "display_name": "Python 3.10 - SDK v2"
    },
    "language_info": {
      "name": "python",
      "version": "3.10.18",
      "mimetype": "text/x-python",
      "codemirror_mode": {
        "name": "ipython",
        "version": 3
      },
      "pygments_lexer": "ipython3",
      "nbconvert_exporter": "python",
      "file_extension": ".py"
    },
    "microsoft": {
      "ms_spell_check": {
        "ms_spell_check_language": "en"
      }
    },
    "kernel_info": {
      "name": "python310-sdkv2"
    },
    "nteract": {
      "version": "nteract-front-end@1.0.0"
    }
  },
  "nbformat": 4,
  "nbformat_minor": 5
}