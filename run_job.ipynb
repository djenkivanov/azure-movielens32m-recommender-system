{
  "cells": [
    {
      "cell_type": "code",
      "execution_count": 1,
      "id": "4a693f91",
      "metadata": {},
      "outputs": [
        {
          "name": "stdout",
          "output_type": "stream",
          "text": [
            "\n",
            "\u001b[1m[\u001b[0m\u001b[34;49mnotice\u001b[0m\u001b[1;39;49m]\u001b[0m\u001b[39;49m A new release of pip is available: \u001b[0m\u001b[31;49m25.1.1\u001b[0m\u001b[39;49m -> \u001b[0m\u001b[32;49m25.3\u001b[0m\n",
            "\u001b[1m[\u001b[0m\u001b[34;49mnotice\u001b[0m\u001b[1;39;49m]\u001b[0m\u001b[39;49m To update, run: \u001b[0m\u001b[32;49m/anaconda/envs/azureml_py310_sdkv2/bin/python -m pip install --upgrade pip\u001b[0m\n",
            "Note: you may need to restart the kernel to use updated packages.\n",
            "/mnt/batch/tasks/shared/LS_root/mounts/clusters/movielens-compute/code/Users/djenk.ivanov\n"
          ]
        }
      ],
      "source": [
        "%pip install --quiet -U dotenv\n",
        "%cd Users/djenk.ivanov/"
      ]
    },
    {
      "cell_type": "code",
      "execution_count": 8,
      "id": "55b62f72",
      "metadata": {},
      "outputs": [],
      "source": [
        "from azure.ai.ml.entities import ManagedOnlineEndpoint, ManagedOnlineDeployment, Model\n",
        "from azure.identity import DefaultAzureCredential\n",
        "import uuid\n",
        "from azure.ai.ml.entities import Environment\n",
        "from azure.ai.ml import MLClient\n",
        "from dotenv import load_dotenv\n",
        "import os\n",
        "\n",
        "\n",
        "dependencies_dir = \"./dependencies\"\n",
        "os.makedirs(dependencies_dir, exist_ok=True)"
      ]
    },
    {
      "cell_type": "code",
      "execution_count": 46,
      "id": "b57faff6",
      "metadata": {},
      "outputs": [
        {
          "name": "stdout",
          "output_type": "stream",
          "text": [
            "Environment with name movielens-recsys-env is registered to workspace, the environment version is 8\n"
          ]
        }
      ],
      "source": [
        "\n",
        "\n",
        "custom_env_name = \"movielens-recsys-env\"\n",
        "\n",
        "load_dotenv()\n",
        "\n",
        "credential = DefaultAzureCredential()\n",
        "\n",
        "custom_job_env = Environment(\n",
        "    name=custom_env_name,\n",
        "    description=\"Environment for MovieLens recommendation system\",\n",
        "    conda_file=os.path.join(dependencies_dir, \"conda.yaml\"),\n",
        "    image=\"mcr.microsoft.com/azureml/openmpi4.1.0-ubuntu20.04:latest\",\n",
        ")\n",
        "\n",
        "ml_client = MLClient(\n",
        "    credential=credential,\n",
        "    subscription_id=os.getenv(\"AZURE_SUBSCRIPTION_ID\"),\n",
        "    resource_group_name=os.getenv(\"AZURE_RESOURCE_GROUP\"),\n",
        "    workspace_name=os.getenv(\"AZURE_ML_WORKSPACE\"),\n",
        ")\n",
        "\n",
        "custom_job_env = ml_client.environments.create_or_update(custom_job_env)\n",
        "\n",
        "print(\n",
        "    f\"Environment with name {custom_job_env.name} is registered to workspace, the environment version is {custom_job_env.version}\"\n",
        ")"
      ]
    },
    {
      "cell_type": "markdown",
      "id": "4c961f85",
      "metadata": {},
      "source": [
        "# Run job"
      ]
    },
    {
      "cell_type": "code",
      "execution_count": 70,
      "id": "4b650424",
      "metadata": {
        "gather": {
          "logged": 1761778756658
        }
      },
      "outputs": [
        {
          "name": "stderr",
          "output_type": "stream",
          "text": [
            "\u001b[32mUploading src (0.01 MBs): 100%|██████████| 8845/8845 [00:00<00:00, 191186.63it/s]\n",
            "\u001b[39m\n",
            "\n"
          ]
        },
        {
          "data": {
            "text/html": [
              "<table style=\"width:100%\"><tr><th>Experiment</th><th>Name</th><th>Type</th><th>Status</th><th>Details Page</th></tr><tr><td>djenk</td><td>modest_soccer_f4njqrbfmm</td><td>command</td><td>Starting</td><td><a href=\"https://ml.azure.com/runs/modest_soccer_f4njqrbfmm?wsid=/subscriptions/ba117730-305b-41b8-8447-bf6834f0a56f/resourcegroups/djenk-rg1/workspaces/djenk-ml&amp;tid=26ee93c3-64d1-49a6-b531-5d4e56d6a832\" target=\"_blank\" rel=\"noopener\">Link to Azure Machine Learning studio</a></td></tr></table>"
            ],
            "text/plain": [
              "Command({'parameters': {}, 'init': False, 'name': 'modest_soccer_f4njqrbfmm', 'type': 'command', 'status': 'Starting', 'log_files': None, 'description': None, 'tags': {}, 'properties': {'_azureml.ComputeTargetType': 'amlctrain', '_azureml.ClusterName': None, 'ContentSnapshotId': '8f95dbc0-f804-411d-99a7-69e3628e2720'}, 'print_as_yaml': False, 'id': '/subscriptions/ba117730-305b-41b8-8447-bf6834f0a56f/resourceGroups/djenk-rg1/providers/Microsoft.MachineLearningServices/workspaces/djenk-ml/jobs/modest_soccer_f4njqrbfmm', 'Resource__source_path': '', 'base_path': '/mnt/batch/tasks/shared/LS_root/mounts/clusters/movielens-compute/code/Users/djenk.ivanov', 'creation_context': <azure.ai.ml.entities._system_data.SystemData object at 0x7b6485aa8ac0>, 'serialize': <msrest.serialization.Serializer object at 0x7b6485aa8a30>, 'allowed_keys': {}, 'key_restriction': False, 'logger': <Logger attr_dict (WARNING)>, 'display_name': 'movielens_recommender_training_job', 'experiment_name': 'djenk', 'compute': None, 'services': {'Tracking': {'endpoint': 'azureml://eastus.api.azureml.ms/mlflow/v1.0/subscriptions/ba117730-305b-41b8-8447-bf6834f0a56f/resourceGroups/djenk-rg1/providers/Microsoft.MachineLearningServices/workspaces/djenk-ml?', 'type': 'Tracking'}, 'Studio': {'endpoint': 'https://ml.azure.com/runs/modest_soccer_f4njqrbfmm?wsid=/subscriptions/ba117730-305b-41b8-8447-bf6834f0a56f/resourcegroups/djenk-rg1/workspaces/djenk-ml&tid=26ee93c3-64d1-49a6-b531-5d4e56d6a832', 'type': 'Studio'}}, 'comment': None, 'job_inputs': {'data': {'type': 'uri_folder', 'path': 'movielens32m:1', 'mode': 'ro_mount'}, 'model_name': 'movielens_recommender'}, 'job_outputs': {'default': {'type': 'uri_folder', 'path': 'azureml://datastores/workspaceartifactstore/ExperimentRun/dcid.modest_soccer_f4njqrbfmm', 'mode': 'rw_mount'}}, 'inputs': {'data': <azure.ai.ml.entities._job.pipeline._io.base.NodeInput object at 0x7b6485aa83a0>, 'model_name': <azure.ai.ml.entities._job.pipeline._io.base.NodeInput object at 0x7b6485aa8490>}, 'outputs': {'default': <azure.ai.ml.entities._job.pipeline._io.base.NodeOutput object at 0x7b6485aa8160>}, 'component': CommandComponent({'latest_version': None, 'intellectual_property': None, 'auto_increment_version': True, 'source': 'REMOTE.WORKSPACE.JOB', 'is_anonymous': False, 'auto_delete_setting': None, 'name': 'modest_soccer_f4njqrbfmm', 'description': None, 'tags': {}, 'properties': {}, 'print_as_yaml': False, 'id': None, 'Resource__source_path': None, 'base_path': '/mnt/batch/tasks/shared/LS_root/mounts/clusters/movielens-compute/code/Users/djenk.ivanov', 'creation_context': <azure.ai.ml.entities._system_data.SystemData object at 0x7b6485aa8ac0>, 'serialize': <msrest.serialization.Serializer object at 0x7b6485aa84c0>, 'command': 'python main.py --data ${{inputs.data}} --model_name ${{inputs.model_name}}', 'code': '/subscriptions/ba117730-305b-41b8-8447-bf6834f0a56f/resourceGroups/djenk-rg1/providers/Microsoft.MachineLearningServices/workspaces/djenk-ml/codes/7cb463d7-05a8-47a6-84cd-390925710934/versions/1', 'environment_variables': {}, 'environment': '/subscriptions/ba117730-305b-41b8-8447-bf6834f0a56f/resourceGroups/djenk-rg1/providers/Microsoft.MachineLearningServices/workspaces/djenk-ml/environments/movielens-recsys-env/versions/8', 'distribution': None, 'resources': None, 'queue_settings': None, 'version': None, 'schema': None, 'type': 'command', 'display_name': 'movielens_recommender_training_job', 'is_deterministic': True, 'inputs': {'data': {'type': 'uri_folder', 'path': '/subscriptions/ba117730-305b-41b8-8447-bf6834f0a56f/resourceGroups/djenk-rg1/providers/Microsoft.MachineLearningServices/workspaces/djenk-ml/data/movielens32m/versions/1', 'mode': 'ro_mount'}, 'model_name': {'type': 'string', 'default': 'movielens_recommender'}}, 'outputs': {'default': {'type': 'uri_folder', 'path': 'azureml://datastores/workspaceartifactstore/ExperimentRun/dcid.modest_soccer_f4njqrbfmm', 'mode': 'rw_mount'}}, 'yaml_str': None, 'other_parameter': {'status': 'Starting', 'parameters': {}}, 'additional_includes': []}), 'referenced_control_flow_node_instance_id': None, 'kwargs': {'services': {'Tracking': {'endpoint': 'azureml://eastus.api.azureml.ms/mlflow/v1.0/subscriptions/ba117730-305b-41b8-8447-bf6834f0a56f/resourceGroups/djenk-rg1/providers/Microsoft.MachineLearningServices/workspaces/djenk-ml?', 'type': 'Tracking'}, 'Studio': {'endpoint': 'https://ml.azure.com/runs/modest_soccer_f4njqrbfmm?wsid=/subscriptions/ba117730-305b-41b8-8447-bf6834f0a56f/resourcegroups/djenk-rg1/workspaces/djenk-ml&tid=26ee93c3-64d1-49a6-b531-5d4e56d6a832', 'type': 'Studio'}}, 'status': 'Starting', 'creation_context': <azure.ai.ml.entities._system_data.SystemData object at 0x7b6485aa8ac0>}, 'instance_id': 'f5ef6377-e316-4790-90e5-c7b9e81055cc', 'source': 'BUILDER', 'validate_required_input_not_provided': True, 'limits': None, 'identity': None, 'distribution': None, 'environment_variables': {}, 'environment': 'movielens-recsys-env:8', 'resources': {'instance_count': 1, 'shm_size': '2g'}, 'queue_settings': {'job_tier': 'null'}, 'parent_job_name': None, 'swept': False})"
            ]
          },
          "execution_count": 70,
          "metadata": {},
          "output_type": "execute_result"
        }
      ],
      "source": [
        "from azure.ai.ml import command, Input\n",
        "\n",
        "model_name = \"movielens_recommender\"\n",
        "data = Input(type=\"uri_folder\", path=\"azureml:movielens32m:1\")\n",
        "\n",
        "job = command(\n",
        "    inputs=dict(\n",
        "        data=data,\n",
        "        model_name=model_name,\n",
        "    ),\n",
        "    code=\"./src/\",\n",
        "    command=\"python main.py --data ${{inputs.data}} --model_name ${{inputs.model_name}}\",\n",
        "    environment=\"movielens-recsys-env@latest\",\n",
        "    display_name=\"movielens_recommender_training_job\",\n",
        ")\n",
        "ml_client.jobs.create_or_update(job)"
      ]
    },
    {
      "cell_type": "markdown",
      "id": "31397469",
      "metadata": {},
      "source": [
        "# Create endpoint/deploy"
      ]
    },
    {
      "cell_type": "code",
      "execution_count": 71,
      "id": "a5b6d446",
      "metadata": {},
      "outputs": [
        {
          "ename": "KeyboardInterrupt",
          "evalue": "",
          "output_type": "error",
          "traceback": [
            "\u001b[0;31m---------------------------------------------------------------------------\u001b[0m",
            "\u001b[0;31mKeyboardInterrupt\u001b[0m                         Traceback (most recent call last)",
            "Cell \u001b[0;32mIn[71], line 14\u001b[0m\n\u001b[1;32m      8\u001b[0m model_name \u001b[38;5;241m=\u001b[39m \u001b[38;5;124m\"\u001b[39m\u001b[38;5;124mmovielens_recommender\u001b[39m\u001b[38;5;124m\"\u001b[39m\n\u001b[1;32m     10\u001b[0m latest_model_version \u001b[38;5;241m=\u001b[39m \u001b[38;5;28mmax\u001b[39m(\n\u001b[1;32m     11\u001b[0m     [\u001b[38;5;28mint\u001b[39m(m\u001b[38;5;241m.\u001b[39mversion) \u001b[38;5;28;01mfor\u001b[39;00m m \u001b[38;5;129;01min\u001b[39;00m ml_client\u001b[38;5;241m.\u001b[39mmodels\u001b[38;5;241m.\u001b[39mlist(name\u001b[38;5;241m=\u001b[39mmodel_name)]\n\u001b[1;32m     12\u001b[0m )\n\u001b[0;32m---> 14\u001b[0m \u001b[43mml_client\u001b[49m\u001b[38;5;241;43m.\u001b[39;49m\u001b[43monline_endpoints\u001b[49m\u001b[38;5;241;43m.\u001b[39;49m\u001b[43mbegin_create_or_update\u001b[49m\u001b[43m(\u001b[49m\u001b[43mendpoint\u001b[49m\u001b[43m)\u001b[49m\u001b[38;5;241;43m.\u001b[39;49m\u001b[43mresult\u001b[49m\u001b[43m(\u001b[49m\u001b[43m)\u001b[49m\n\u001b[1;32m     15\u001b[0m model \u001b[38;5;241m=\u001b[39m ml_client\u001b[38;5;241m.\u001b[39mmodels\u001b[38;5;241m.\u001b[39mget(name\u001b[38;5;241m=\u001b[39mmodel_name, version\u001b[38;5;241m=\u001b[39mlatest_model_version)\n\u001b[1;32m     16\u001b[0m deployment \u001b[38;5;241m=\u001b[39m ManagedOnlineDeployment(\n\u001b[1;32m     17\u001b[0m     name\u001b[38;5;241m=\u001b[39m\u001b[38;5;124m\"\u001b[39m\u001b[38;5;124mblue\u001b[39m\u001b[38;5;124m\"\u001b[39m,\n\u001b[1;32m     18\u001b[0m     endpoint_name\u001b[38;5;241m=\u001b[39mendpoint_name,\n\u001b[0;32m   (...)\u001b[0m\n\u001b[1;32m     24\u001b[0m     instance_count\u001b[38;5;241m=\u001b[39m\u001b[38;5;241m1\u001b[39m,\n\u001b[1;32m     25\u001b[0m )\n",
            "File \u001b[0;32m/anaconda/envs/azureml_py310_sdkv2/lib/python3.10/site-packages/azure/core/polling/_poller.py:326\u001b[0m, in \u001b[0;36mLROPoller.result\u001b[0;34m(self, timeout)\u001b[0m\n\u001b[1;32m    317\u001b[0m \u001b[38;5;28;01mdef\u001b[39;00m\u001b[38;5;250m \u001b[39m\u001b[38;5;21mresult\u001b[39m(\u001b[38;5;28mself\u001b[39m, timeout: Optional[\u001b[38;5;28mfloat\u001b[39m] \u001b[38;5;241m=\u001b[39m \u001b[38;5;28;01mNone\u001b[39;00m) \u001b[38;5;241m-\u001b[39m\u001b[38;5;241m>\u001b[39m PollingReturnType_co:\n\u001b[1;32m    318\u001b[0m \u001b[38;5;250m    \u001b[39m\u001b[38;5;124;03m\"\"\"Return the result of the long running operation, or\u001b[39;00m\n\u001b[1;32m    319\u001b[0m \u001b[38;5;124;03m    the result available after the specified timeout.\u001b[39;00m\n\u001b[1;32m    320\u001b[0m \n\u001b[0;32m   (...)\u001b[0m\n\u001b[1;32m    324\u001b[0m \u001b[38;5;124;03m    :raises ~azure.core.exceptions.HttpResponseError: Server problem with the query.\u001b[39;00m\n\u001b[1;32m    325\u001b[0m \u001b[38;5;124;03m    \"\"\"\u001b[39;00m\n\u001b[0;32m--> 326\u001b[0m     \u001b[38;5;28;43mself\u001b[39;49m\u001b[38;5;241;43m.\u001b[39;49m\u001b[43mwait\u001b[49m\u001b[43m(\u001b[49m\u001b[43mtimeout\u001b[49m\u001b[43m)\u001b[49m\n\u001b[1;32m    327\u001b[0m     \u001b[38;5;28;01mreturn\u001b[39;00m \u001b[38;5;28mself\u001b[39m\u001b[38;5;241m.\u001b[39m_polling_method\u001b[38;5;241m.\u001b[39mresource()\n",
            "File \u001b[0;32m/anaconda/envs/azureml_py310_sdkv2/lib/python3.10/site-packages/azure/core/tracing/decorator.py:119\u001b[0m, in \u001b[0;36mdistributed_trace.<locals>.decorator.<locals>.wrapper_use_tracer\u001b[0;34m(*args, **kwargs)\u001b[0m\n\u001b[1;32m    117\u001b[0m \u001b[38;5;66;03m# If tracing is disabled globally and user didn't explicitly enable it, don't trace.\u001b[39;00m\n\u001b[1;32m    118\u001b[0m \u001b[38;5;28;01mif\u001b[39;00m user_enabled \u001b[38;5;129;01mis\u001b[39;00m \u001b[38;5;28;01mFalse\u001b[39;00m \u001b[38;5;129;01mor\u001b[39;00m (\u001b[38;5;129;01mnot\u001b[39;00m tracing_enabled \u001b[38;5;129;01mand\u001b[39;00m user_enabled \u001b[38;5;129;01mis\u001b[39;00m \u001b[38;5;28;01mNone\u001b[39;00m):\n\u001b[0;32m--> 119\u001b[0m     \u001b[38;5;28;01mreturn\u001b[39;00m \u001b[43mfunc\u001b[49m\u001b[43m(\u001b[49m\u001b[38;5;241;43m*\u001b[39;49m\u001b[43margs\u001b[49m\u001b[43m,\u001b[49m\u001b[43m \u001b[49m\u001b[38;5;241;43m*\u001b[39;49m\u001b[38;5;241;43m*\u001b[39;49m\u001b[43mkwargs\u001b[49m\u001b[43m)\u001b[49m\n\u001b[1;32m    121\u001b[0m \u001b[38;5;66;03m# Merge span is parameter is set, but only if no explicit parent are passed\u001b[39;00m\n\u001b[1;32m    122\u001b[0m \u001b[38;5;28;01mif\u001b[39;00m merge_span \u001b[38;5;129;01mand\u001b[39;00m \u001b[38;5;129;01mnot\u001b[39;00m passed_in_parent:\n",
            "File \u001b[0;32m/anaconda/envs/azureml_py310_sdkv2/lib/python3.10/site-packages/azure/core/polling/_poller.py:341\u001b[0m, in \u001b[0;36mLROPoller.wait\u001b[0;34m(self, timeout)\u001b[0m\n\u001b[1;32m    339\u001b[0m \u001b[38;5;28;01mif\u001b[39;00m \u001b[38;5;28mself\u001b[39m\u001b[38;5;241m.\u001b[39m_thread \u001b[38;5;129;01mis\u001b[39;00m \u001b[38;5;28;01mNone\u001b[39;00m:\n\u001b[1;32m    340\u001b[0m     \u001b[38;5;28;01mreturn\u001b[39;00m\n\u001b[0;32m--> 341\u001b[0m \u001b[38;5;28;43mself\u001b[39;49m\u001b[38;5;241;43m.\u001b[39;49m\u001b[43m_thread\u001b[49m\u001b[38;5;241;43m.\u001b[39;49m\u001b[43mjoin\u001b[49m\u001b[43m(\u001b[49m\u001b[43mtimeout\u001b[49m\u001b[38;5;241;43m=\u001b[39;49m\u001b[43mtimeout\u001b[49m\u001b[43m)\u001b[49m\n\u001b[1;32m    342\u001b[0m \u001b[38;5;28;01mtry\u001b[39;00m:\n\u001b[1;32m    343\u001b[0m     \u001b[38;5;66;03m# Let's handle possible None in forgiveness here\u001b[39;00m\n\u001b[1;32m    344\u001b[0m     \u001b[38;5;66;03m# https://github.com/python/mypy/issues/8165\u001b[39;00m\n\u001b[1;32m    345\u001b[0m     \u001b[38;5;28;01mraise\u001b[39;00m \u001b[38;5;28mself\u001b[39m\u001b[38;5;241m.\u001b[39m_exception  \u001b[38;5;66;03m# type: ignore\u001b[39;00m\n",
            "File \u001b[0;32m/anaconda/envs/azureml_py310_sdkv2/lib/python3.10/threading.py:1096\u001b[0m, in \u001b[0;36mThread.join\u001b[0;34m(self, timeout)\u001b[0m\n\u001b[1;32m   1093\u001b[0m     \u001b[38;5;28;01mraise\u001b[39;00m \u001b[38;5;167;01mRuntimeError\u001b[39;00m(\u001b[38;5;124m\"\u001b[39m\u001b[38;5;124mcannot join current thread\u001b[39m\u001b[38;5;124m\"\u001b[39m)\n\u001b[1;32m   1095\u001b[0m \u001b[38;5;28;01mif\u001b[39;00m timeout \u001b[38;5;129;01mis\u001b[39;00m \u001b[38;5;28;01mNone\u001b[39;00m:\n\u001b[0;32m-> 1096\u001b[0m     \u001b[38;5;28;43mself\u001b[39;49m\u001b[38;5;241;43m.\u001b[39;49m\u001b[43m_wait_for_tstate_lock\u001b[49m\u001b[43m(\u001b[49m\u001b[43m)\u001b[49m\n\u001b[1;32m   1097\u001b[0m \u001b[38;5;28;01melse\u001b[39;00m:\n\u001b[1;32m   1098\u001b[0m     \u001b[38;5;66;03m# the behavior of a negative timeout isn't documented, but\u001b[39;00m\n\u001b[1;32m   1099\u001b[0m     \u001b[38;5;66;03m# historically .join(timeout=x) for x<0 has acted as if timeout=0\u001b[39;00m\n\u001b[1;32m   1100\u001b[0m     \u001b[38;5;28mself\u001b[39m\u001b[38;5;241m.\u001b[39m_wait_for_tstate_lock(timeout\u001b[38;5;241m=\u001b[39m\u001b[38;5;28mmax\u001b[39m(timeout, \u001b[38;5;241m0\u001b[39m))\n",
            "File \u001b[0;32m/anaconda/envs/azureml_py310_sdkv2/lib/python3.10/threading.py:1116\u001b[0m, in \u001b[0;36mThread._wait_for_tstate_lock\u001b[0;34m(self, block, timeout)\u001b[0m\n\u001b[1;32m   1113\u001b[0m     \u001b[38;5;28;01mreturn\u001b[39;00m\n\u001b[1;32m   1115\u001b[0m \u001b[38;5;28;01mtry\u001b[39;00m:\n\u001b[0;32m-> 1116\u001b[0m     \u001b[38;5;28;01mif\u001b[39;00m \u001b[43mlock\u001b[49m\u001b[38;5;241;43m.\u001b[39;49m\u001b[43macquire\u001b[49m\u001b[43m(\u001b[49m\u001b[43mblock\u001b[49m\u001b[43m,\u001b[49m\u001b[43m \u001b[49m\u001b[43mtimeout\u001b[49m\u001b[43m)\u001b[49m:\n\u001b[1;32m   1117\u001b[0m         lock\u001b[38;5;241m.\u001b[39mrelease()\n\u001b[1;32m   1118\u001b[0m         \u001b[38;5;28mself\u001b[39m\u001b[38;5;241m.\u001b[39m_stop()\n",
            "\u001b[0;31mKeyboardInterrupt\u001b[0m: "
          ]
        }
      ],
      "source": [
        "endpoint_name = f'movielens-endpoint-{str(uuid.uuid4())[:8]}'\n",
        "\n",
        "endpoint = ManagedOnlineEndpoint(\n",
        "    name=endpoint_name,\n",
        "    auth_mode=\"key\",\n",
        ")\n",
        "\n",
        "model_name = \"movielens_recommender\"\n",
        "\n",
        "latest_model_version = max(\n",
        "    [int(m.version) for m in ml_client.models.list(name=model_name)]\n",
        ")\n",
        "\n",
        "ml_client.online_endpoints.begin_create_or_update(endpoint).result()\n",
        "model = ml_client.models.get(name=model_name, version=latest_model_version)\n",
        "deployment = ManagedOnlineDeployment(\n",
        "    name=\"blue\",\n",
        "    endpoint_name=endpoint_name,\n",
        "    model=model,\n",
        "    code_path=\"./src\",\n",
        "    environment=\"movielens-recsys-env@latest\",\n",
        "    scoring_script=\"score.py\",\n",
        "    instance_type=\"Standard_E2s_v3\",\n",
        "    instance_count=1,\n",
        ")\n",
        "\n",
        "ml_client.online_deployments.begin_create_or_update(deployment).result()\n",
        "\n",
        "endpoint.traffic = {\"blue\": 100}\n",
        "ml_client.online_endpoints.begin_create_or_update(endpoint).result()"
      ]
    },
    {
      "cell_type": "code",
      "execution_count": 55,
      "id": "2091e6fd",
      "metadata": {},
      "outputs": [
        {
          "name": "stdout",
          "output_type": "stream",
          "text": [
            "\"{\\\"error\\\": \\\"('movieId', 'title')\\\"}\"\n"
          ]
        }
      ],
      "source": [
        "latest_endpoint_name = \"movielens-endpoint-503789da\"\n",
        "\n",
        "response = ml_client.online_endpoints.invoke(\n",
        "    endpoint_name=latest_endpoint_name,\n",
        "    deployment_name=\"blue\",\n",
        "    request_file=\"./payload.json\"\n",
        ")\n",
        "\n",
        "print(response)"
      ]
    },
    {
      "cell_type": "code",
      "execution_count": 66,
      "id": "f543c2a6",
      "metadata": {},
      "outputs": [],
      "source": [
        "import pandas as pd\n",
        "import numpy as np\n",
        "from scipy.sparse import csr_matrix\n",
        "from sklearn.preprocessing import OrdinalEncoder, normalize\n",
        "from sklearn.neighbors import NearestNeighbors\n",
        "import numpy as np\n",
        "from sklearn.metrics.pairwise import cosine_similarity\n",
        "from azure.identity import DefaultAzureCredential\n",
        "import argparse\n",
        "import mlflow\n",
        "import mlflow.sklearn\n",
        "from azure.ai.ml import MLClient\n",
        "from dotenv import load_dotenv\n",
        "import os\n",
        "import joblib, scipy.sparse as sp\n",
        "from pathlib import Path\n",
        "\n",
        "\n",
        "\n",
        "\n",
        "\n",
        "def evaluate(k):\n",
        "    users_evaluated = 0\n",
        "    users_with_hits = 0\n",
        "    sum_precision = 0.0\n",
        "    sum_recall = 0.0\n",
        "    total_hits = 0\n",
        "    total_liked = 0\n",
        "    \n",
        "    users = (u for u in liked_by_users.keys() if u in sample_users)\n",
        "    \n",
        "    for u in users:\n",
        "        liked_movies = liked_by_users[u]\n",
        "        print(f'Users evaluated: {users_evaluated}/{len(sample_users)}')\n",
        "        recs = get_recommendations_for_user(u, top_k=k)\n",
        "        if not recs.any():\n",
        "            continue\n",
        "        \n",
        "        users_evaluated += 1\n",
        "        num_hits = len(set(recs) & liked_movies)\n",
        "        \n",
        "        if num_hits > 0:\n",
        "            users_with_hits += 1\n",
        "            \n",
        "        sum_precision += num_hits / k\n",
        "        sum_recall += num_hits / len(liked_movies)\n",
        "        \n",
        "        total_hits += num_hits\n",
        "        total_liked += len(liked_movies)\n",
        "    \n",
        "    precision = sum_precision / users_evaluated\n",
        "    recall = sum_recall / users_evaluated\n",
        "    hitrate = users_with_hits / users_evaluated\n",
        "    \n",
        "    \n",
        "    return {\n",
        "        'precision': precision,\n",
        "        'recall': recall,\n",
        "        'hitrate': hitrate,\n",
        "        'total_hits': total_hits,\n",
        "        'total_liked': total_liked\n",
        "    }\n",
        "    \n",
        "    \n",
        "\n",
        "data_asset = ml_client.data.get(name=\"movielens32m\", version=\"1\")\n",
        "\n",
        "ratings = pd.read_csv(data_asset.path + \"/ratings.csv\")\n",
        "movies = pd.read_csv(data_asset.path + \"/movies.csv\")\n",
        "\n",
        "hot_encode_genres = pd.Series(movies['genres']).str.get_dummies(sep='|')\n",
        "encoded_movies = movies.merge(hot_encode_genres, left_index=True, right_index=True)\n",
        "encoded_movies.drop(columns=['genres'], inplace=True)\n",
        "\n",
        "ratings = ratings.drop(columns=['timestamp'])\n",
        "merged = ratings.merge(encoded_movies, on='movieId', how='left')\n",
        "\n",
        "df = merged.copy()\n",
        "\n",
        "max_users = 100_000\n",
        "sampled_users = np.random.choice(df['userId'].unique(), size=max_users, replace=False)\n",
        "df = df[df['userId'].isin(sampled_users)].copy()\n",
        "    \n",
        "df['liked'] = (df['rating'] >= 3).astype('int8')\n",
        "\n",
        "row_hash = pd.util.hash_pandas_object(df[['userId', 'movieId', 'liked']], index=False).astype('uint64')\n",
        "rand = (row_hash % (2**32)) / (2**32)\n",
        "\n",
        "df['split'] = np.where(rand < 0.5, 'train', 'test')\n",
        "\n",
        "train = df[df['split'] == 'train'].copy()\n",
        "test = df[df['split'] == 'test'].copy()\n",
        "\n",
        "user_encoder = OrdinalEncoder()\n",
        "movie_encoder = OrdinalEncoder()\n",
        "\n",
        "train['userId_enc'] = user_encoder.fit_transform(train[['userId']]).astype(np.int64)\n",
        "train['movieId_enc'] = movie_encoder.fit_transform(train[['movieId']]).astype(np.int64)\n",
        "\n",
        "known_users = train['userId'].unique()\n",
        "known_movies = train['movieId'].unique()\n",
        "\n",
        "test = test[test['userId'].isin(known_users) & test['movieId'].isin(known_movies)].copy()\n",
        "\n",
        "test['userId_enc'] = user_encoder.transform(test[['userId']]).astype(np.int64)\n",
        "test['movieId_enc'] = movie_encoder.transform(test[['movieId']]).astype(np.int64)\n",
        "\n",
        "train_liked = train[train['liked'] == 1]\n",
        "total_users = train['userId_enc'].max() + 1 \n",
        "total_movies = train['movieId_enc'].max() + 1\n",
        "\n",
        "X_train = csr_matrix(   \n",
        "    (np.ones(train_liked.shape[0], dtype=np.float32), (train_liked['userId_enc'].to_numpy(), train_liked['movieId_enc'].to_numpy())),\n",
        "    shape=(total_users, total_movies),\n",
        "    dtype=np.float32\n",
        ")\n",
        "\n",
        "K = 100\n",
        "X_movies = X_train.T.tocsr().astype(np.float32)\n",
        "X_movies = normalize(X_movies, axis=1, copy=False)\n",
        "\n",
        "nn = NearestNeighbors(n_neighbors=K+1, metric='cosine', algorithm='brute', n_jobs=-1)\n",
        "nn.fit(X_movies)\n",
        "\n",
        "dists, indices = nn.kneighbors(X_movies, return_distance=True, n_neighbors=K+1)\n",
        "sims = 1.0 - dists\n",
        "\n",
        "indices = indices[:, 1:]\n",
        "sims = sims[:, 1:].astype(np.float32)\n",
        "\n",
        "seen_by_user = [set() for _ in range(total_users)]\n",
        "for u, m in zip(train['userId_enc'].to_numpy(), train['movieId_enc'].to_numpy()):\n",
        "    seen_by_user[u].add(m)\n",
        "        \n",
        "liked_by_users = {}\n",
        "\n",
        "for u, m, l in zip(test['userId_enc'].to_numpy(), test['movieId_enc'].to_numpy(), test['liked'].to_numpy()):\n",
        "    if l == 1:\n",
        "        liked_by_users.setdefault(u, set()).add(m)\n",
        "        \n",
        "all_eval_users = np.array(list(liked_by_users.keys()), dtype=np.int64)\n",
        "h = pd.util.hash_array(all_eval_users)\n",
        "sample_mask = (h % 1000) == 0\n",
        "sample_users = set(all_eval_users[sample_mask])\n",
        "\n",
        "\n",
        "\n",
        "\n",
        "    \n",
        "    "
      ]
    },
    {
      "cell_type": "code",
      "execution_count": 69,
      "id": "34b6ed4f",
      "metadata": {},
      "outputs": [
        {
          "name": "stdout",
          "output_type": "stream",
          "text": [
            "(10700,) (10700,)\n",
            "[{'movieId': 5431, 'title': \"Goin' South (1978)\"}, {'movieId': 4980, 'title': \"Bill & Ted's Bogus Journey (1991)\"}, {'movieId': 4950, 'title': 'Lone Wolf McQuade (1983)'}, {'movieId': 1269, 'title': 'Arsenic and Old Lace (1944)'}, {'movieId': 33415, 'title': 'Solino (2002)'}, {'movieId': 2956, 'title': 'Someone to Watch Over Me (1987)'}, {'movieId': 5404, 'title': '84 Charing Cross Road (1987)'}, {'movieId': 1238, 'title': 'Local Hero (1983)'}, {'movieId': 6352, 'title': 'Lambada (1990)'}, {'movieId': 1194, 'title': \"Cheech and Chong's Up in Smoke (1978)\"}]\n"
          ]
        }
      ],
      "source": [
        "def get_recommendations_for_user(user_id_enc, top_k=10):\n",
        "    liked = [i for i in liked_by_users[user_id_enc]]\n",
        "\n",
        "    scores = np.zeros(len(indices), dtype=np.float32)\n",
        "    neighbors = indices[liked].ravel()\n",
        "    weights = sims[liked].ravel()\n",
        "    print(neighbors.shape, weights.shape)\n",
        "    np.add.at(scores, neighbors, weights)\n",
        "    \n",
        "    scores[list(seen_by_user[user_id_enc])] = -np.inf\n",
        "    \n",
        "    top = np.argpartition(scores, -top_k)[-top_k:]\n",
        "    recommended_indices = top[np.argsort(-scores[top])]\n",
        "    return movies.iloc[recommended_indices][['movieId', 'title']].to_dict(orient='records')\n",
        "\n",
        "recs = get_recommendations_for_user(user_id_enc=100, top_k=10)\n",
        "print(recs)"
      ]
    }
  ],
  "metadata": {
    "kernel_info": {
      "name": "python310-sdkv2"
    },
    "kernelspec": {
      "display_name": "Python 3.10 - SDK v2",
      "language": "python",
      "name": "python310-sdkv2"
    },
    "language_info": {
      "codemirror_mode": {
        "name": "ipython",
        "version": 3
      },
      "file_extension": ".py",
      "mimetype": "text/x-python",
      "name": "python",
      "nbconvert_exporter": "python",
      "pygments_lexer": "ipython3",
      "version": "3.10.18"
    },
    "microsoft": {
      "ms_spell_check": {
        "ms_spell_check_language": "en"
      }
    },
    "nteract": {
      "version": "nteract-front-end@1.0.0"
    }
  },
  "nbformat": 4,
  "nbformat_minor": 5
}
